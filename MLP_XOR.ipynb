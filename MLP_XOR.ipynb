{
  "cells": [
    {
      "cell_type": "code",
      "execution_count": 1,
      "id": "f3b1afed",
      "metadata": {
        "id": "f3b1afed"
      },
      "outputs": [],
      "source": [
        "import numpy as np\n",
        "from random import random\n"
      ]
    },
    {
      "cell_type": "markdown",
      "source": [
        "## Κλάση πολυεπίπεδου αισθητήρα"
      ],
      "metadata": {
        "id": "0qBzzYyJy8Pn"
      },
      "id": "0qBzzYyJy8Pn"
    },
    {
      "cell_type": "code",
      "execution_count": 2,
      "id": "e9a02e26",
      "metadata": {
        "id": "e9a02e26"
      },
      "outputs": [],
      "source": [
        "# Ορισμός Κλάσης\n",
        "class MLP(object):\n",
        "\n",
        "    # Αρχικοποίηση κλάσης - Με ορίσματα τον αριθμό των εισόδων, κρυφών επιπέδον και εξόδων.\n",
        "    def __init__(self, num_inputs=3, hidden_layers=[3, 3], num_outputs=2):\n",
        "\n",
        "        self.num_inputs = num_inputs\n",
        "        self.hidden_layers = hidden_layers\n",
        "        self.num_outputs = num_outputs\n",
        "\n",
        "        # Δημιουργία γενικής αναπαράστασης επιπέδων\n",
        "        layers = [num_inputs] + hidden_layers + [num_outputs]\n",
        "      \n",
        "        # Δημιουργία τυχαίων βαρών για όλα τα επίπεδα\n",
        "        # Κενή λίστα βαρών\n",
        "        weights = []\n",
        "        # Βρόχος επανάληψης για όλα τα επίπεδα\n",
        "        for i in range(len(layers) - 1):\n",
        "            w = np.random.rand(layers[i], layers[i + 1])\n",
        "            weights.append(w)\n",
        "        self.weights = weights\n",
        "        print(weights)\n",
        "\n",
        "        # Παράγωγοι για όλα τα επίπεδα\n",
        "        # Κενή λίστα παραγώγων\n",
        "        derivatives = []\n",
        "        # Βρόχος επανάληψης για όλα τα επίπεδα\n",
        "        for i in range(len(layers) - 1):\n",
        "          # Αρχικά όλες οι τιμές είναι 0\n",
        "            d = np.zeros((layers[i], layers[i + 1]))\n",
        "            derivatives.append(d)\n",
        "        self.derivatives = derivatives\n",
        "\n",
        "        # Κατώφλι ενεργοποίησης για όλα τα επίπεδα\n",
        "        # Κενή λίστα κατωφλιών\n",
        "        activations = []\n",
        "        # Βρόχος επανάληψης για όλα τα επίπεδα\n",
        "        for i in range(len(layers)):\n",
        "          # Αρχικά όλες οι τιμές είναι 0\n",
        "            a = np.zeros(layers[i])\n",
        "            activations.append(a)\n",
        "        self.activations = activations\n",
        "\n",
        "\n",
        "    def forward_propagate(self, inputs):\n",
        "\n",
        "        # Για το επίπεδο των εισόδων οι ενεργοποίησεις ισούνται με τις εισόδους \n",
        "        activations = inputs\n",
        "\n",
        "        # αποθήκευσης τιμών ενεργοποίησης\n",
        "        self.activations[0] = activations\n",
        "\n",
        "        # Επαναληπτικός βρόχος επεξεργασίας όλων των επιπέδων \n",
        "        for i, w in enumerate(self.weights):\n",
        "          \n",
        "            # Οι είσοδοι του επιπέδου προκύπτουν από τον πολλαπλασιασμό των τιμών ενεργοποίσης\n",
        "            # του προηγούμενου επιπέδου με τον πίνακα βαρών\n",
        "            net_inputs = np.dot(activations, w)\n",
        "\n",
        "            # Εφαρμογή σιγμοειδούς συνάρτησης ενεργοποίησης\n",
        "            activations = self._sigmoid(net_inputs)\n",
        "\n",
        "            # Αποθήκευση ( θα χρησιμοποιηθεί στην οπίσθια τροφοδότηση)\n",
        "            self.activations[i + 1] = activations\n",
        "\n",
        "        # Επιστροφή της τιμής της εξόδου\n",
        "        return activations\n",
        "\n",
        "\n",
        "    def back_propagate(self, error):\n",
        "\n",
        "        # Επαναληπτικός βρόχος επεξεργασίας όλων των επιπέδων (από δεξιά προς τα αριστερά)\n",
        "        for i in reversed(range(len(self.derivatives))):\n",
        "\n",
        "            # Τιμές ενεργοποίησης προηγούμενου επιπέδου\n",
        "            activations = self.activations[i+1]\n",
        "\n",
        "            # Παραγώγηση των τιμών ενεργοποίησης\n",
        "            delta = error * self._sigmoid_derivative(activations)\n",
        "\n",
        "            # Υπολογισμός ανάστροφου πίνακα\n",
        "            delta_re = delta.reshape(delta.shape[0], -1).T\n",
        "\n",
        "            # Τιμές ενεργοποίησης τρέχοντος επιπέδου\n",
        "            current_activations = self.activations[i]\n",
        "\n",
        "            # Υπολογισμός ανάστροφου πίνακα\n",
        "            current_activations = current_activations.reshape(current_activations.shape[0],-1)\n",
        "\n",
        "            # Υπολογισμός κλίσης\n",
        "            self.derivatives[i] = np.dot(current_activations, delta_re)\n",
        "\n",
        "            # Οπισθοδιάδωση σφάλματος\n",
        "            error = np.dot(delta, self.weights[i].T)\n",
        "\n",
        "\n",
        "    def train(self, inputs, targets, epochs, learning_rate):\n",
        "\n",
        "        # Επαναληπτικός βρόχος εκπαίδευσης ( πλήθος επαναλήψεων = εποχές )\n",
        "        for i in range(epochs):\n",
        "            sum_errors = 0\n",
        "\n",
        "            # Επαναληπτικός βρόχος δεδομένων\n",
        "            for j, input in enumerate(inputs):\n",
        "                target = targets[j]\n",
        "\n",
        "                # Εμπρόσθια τροφοδότηση\n",
        "                output = self.forward_propagate(input)\n",
        "\n",
        "                # Υπολογισμός σφάλματος\n",
        "                error = target - output\n",
        "\n",
        "                # Οπίσθοδιάδωση σφάλματος\n",
        "                self.back_propagate(error)\n",
        "\n",
        "                # Ενημέρωση βαρών με χρήση αλγορίθμου μετατροπής σύμφωνα με την κλίση\n",
        "                self.gradient_descent(learning_rate)\n",
        "\n",
        "                # Υπολογισμός μέσου τετραγωνικού σφάλματος\n",
        "                sum_errors += self._mse(target, output)\n",
        "\n",
        "            # Σφάλμα ανά εποχή\n",
        "            print(\"Error: {} at epoch {}\".format(sum_errors / len(items), i+1))\n",
        "\n",
        "        print(\"Training complete!\")\n",
        "        print(\"=====\")\n",
        "\n",
        "\n",
        "    def gradient_descent(self, learningRate=1):\n",
        "\n",
        "        # Ενημέρωση βαρών \n",
        "        for i in range(len(self.weights)):\n",
        "            weights = self.weights[i]\n",
        "            derivatives = self.derivatives[i]\n",
        "            weights += derivatives * learningRate\n",
        "\n",
        "\n",
        "    def _sigmoid(self, x):\n",
        "\n",
        "        y = 1.0 / (1 + np.exp(-x))\n",
        "        return y\n",
        "\n",
        "\n",
        "    def _sigmoid_derivative(self, x):\n",
        "        return x * (1.0 - x)\n",
        "\n",
        "\n",
        "    def _mse(self, target, output):\n",
        "\n",
        "        return np.average((target - output) ** 2)\n"
      ]
    },
    {
      "cell_type": "markdown",
      "source": [
        "## Προετοιμασία δεδομένων XOR\n"
      ],
      "metadata": {
        "id": "a-7EpFbezFQk"
      },
      "id": "a-7EpFbezFQk"
    },
    {
      "cell_type": "code",
      "source": [
        "# Δείκτης ποσότητας δεδομένων - Θα καθορίσει το σύνολο των γραμμών του πίνακα\n",
        "data_train_index = 4000\n",
        "\n",
        "# Κενή λίστα, θα περιέχει τα δεδομένα εισόδου\n",
        "items = []\n",
        "\n",
        "# Βρόχος επανάληψης δημιοργίας τυχαίαων ζευγαριών με τιμές 0 ή 1\n",
        "for i in range(data_train_index):\n",
        "    item =np.random.choice([0, 1], size=2)\n",
        "    items.append(item)\n",
        "\n",
        "# Μετατροπή της λίστα σε πίνακα\n",
        "items=np.array(items)"
      ],
      "metadata": {
        "id": "ZCJDD-vdtHjg"
      },
      "id": "ZCJDD-vdtHjg",
      "execution_count": 3,
      "outputs": []
    },
    {
      "cell_type": "code",
      "source": [
        "# Επαλήθευση πλήθους γραμμών πίνακας\n",
        "len(items)"
      ],
      "metadata": {
        "colab": {
          "base_uri": "https://localhost:8080/"
        },
        "id": "VU3CPUkat_ZG",
        "outputId": "e693d94e-714d-4188-ef57-06f39129fd54"
      },
      "id": "VU3CPUkat_ZG",
      "execution_count": 4,
      "outputs": [
        {
          "output_type": "execute_result",
          "data": {
            "text/plain": [
              "4000"
            ]
          },
          "metadata": {},
          "execution_count": 4
        }
      ]
    },
    {
      "cell_type": "code",
      "source": [
        "# Προεπισκόπηση των πρώτων και τελευταίων πεδίων του πίνακα\n",
        "print(items)"
      ],
      "metadata": {
        "colab": {
          "base_uri": "https://localhost:8080/"
        },
        "id": "p0nLegxuuPpN",
        "outputId": "efe4e10b-a3e2-4efd-d1bb-e8512149dd62"
      },
      "id": "p0nLegxuuPpN",
      "execution_count": 5,
      "outputs": [
        {
          "output_type": "stream",
          "name": "stdout",
          "text": [
            "[[0 1]\n",
            " [0 0]\n",
            " [1 1]\n",
            " ...\n",
            " [1 0]\n",
            " [1 0]\n",
            " [0 0]]\n"
          ]
        }
      ]
    },
    {
      "cell_type": "code",
      "source": [
        "# Κενή λίστα, θα περιέχει τα επιθυμητά δεδομένα εξόδου\n",
        "targets = []\n",
        "\n",
        "# Βρόχος επανάληψης - Ανάγνωση όλων των ζευγραριών από πίνακα items\n",
        "for i in (items):\n",
        "    for j in range(1):\n",
        "      # Η επιθύμητη έξοδος είναι 1\n",
        "        target=1\n",
        "        # Αλλά αν οι είσοδοι είναι ίσες (0,0) ή (1,1)\n",
        "        if i[j] == i[j+1]:\n",
        "          # Η επιθυμητή έξοδος είναι 0\n",
        "            target = 0\n",
        "        targets.append(target)"
      ],
      "metadata": {
        "id": "5SDZXGBuubxU"
      },
      "id": "5SDZXGBuubxU",
      "execution_count": 6,
      "outputs": []
    },
    {
      "cell_type": "code",
      "source": [
        "# Επαλήθευση πλήθους εξόδων - Πρέπει να είναι όσα και τα ζεύγη\n",
        "len(targets)"
      ],
      "metadata": {
        "colab": {
          "base_uri": "https://localhost:8080/"
        },
        "id": "yZDsOoP1vi1n",
        "outputId": "5b3cb4c1-9269-4139-9b78-62c12e5b1405"
      },
      "id": "yZDsOoP1vi1n",
      "execution_count": 7,
      "outputs": [
        {
          "output_type": "execute_result",
          "data": {
            "text/plain": [
              "4000"
            ]
          },
          "metadata": {},
          "execution_count": 7
        }
      ]
    },
    {
      "cell_type": "code",
      "source": [
        "# Προβολή 5 πρώτων και 5 τελευταίων πεδίων πίνακα επιθυμητών αποτελεσμάτων\n",
        "print(targets[:5])\n",
        "print(targets[-5:])"
      ],
      "metadata": {
        "colab": {
          "base_uri": "https://localhost:8080/"
        },
        "id": "BbHRhFuXu4wc",
        "outputId": "15c8046e-8b60-4d74-8459-c46902afccd7"
      },
      "id": "BbHRhFuXu4wc",
      "execution_count": 32,
      "outputs": [
        {
          "output_type": "stream",
          "name": "stdout",
          "text": [
            "[1, 0, 0, 0, 1]\n",
            "[1, 1, 1, 1, 0]\n"
          ]
        }
      ]
    },
    {
      "cell_type": "markdown",
      "source": [
        "# Κύρια συνάρτηση (main)"
      ],
      "metadata": {
        "id": "ksqELQSBzKD3"
      },
      "id": "ksqELQSBzKD3"
    },
    {
      "cell_type": "code",
      "execution_count": 9,
      "id": "824f424f",
      "metadata": {
        "id": "824f424f",
        "outputId": "a52980dc-2f1a-430d-a7c7-aad57121b2d0",
        "colab": {
          "base_uri": "https://localhost:8080/"
        }
      },
      "outputs": [
        {
          "output_type": "stream",
          "name": "stdout",
          "text": [
            "[array([[0.07399649, 0.40639798, 0.14924643],\n",
            "       [0.74981634, 0.15549161, 0.28068258]]), array([[0.68807024],\n",
            "       [0.99568045],\n",
            "       [0.44124621]])]\n",
            "Error: 0.25312678406621836 at epoch 1\n",
            "Error: 0.2509028533374089 at epoch 2\n",
            "Error: 0.25087090405149093 at epoch 3\n",
            "Error: 0.25084642458587353 at epoch 4\n",
            "Error: 0.2508258112300136 at epoch 5\n",
            "Error: 0.2508074446366243 at epoch 6\n",
            "Error: 0.2507906100340191 at epoch 7\n",
            "Error: 0.2507750249058143 at epoch 8\n",
            "Error: 0.25076060823247687 at epoch 9\n",
            "Error: 0.25074736234913936 at epoch 10\n",
            "Error: 0.25073531275187805 at epoch 11\n",
            "Error: 0.2507244765562421 at epoch 12\n",
            "Error: 0.2507148417960369 at epoch 13\n",
            "Error: 0.25070634798429636 at epoch 14\n",
            "Error: 0.25069886452399387 at epoch 15\n",
            "Error: 0.2506921650528926 at epoch 16\n",
            "Error: 0.2506858893273449 at epoch 17\n",
            "Error: 0.2506794656081704 at epoch 18\n",
            "Error: 0.2506719220145897 at epoch 19\n",
            "Error: 0.250661388948048 at epoch 20\n",
            "Error: 0.2506436524936183 at epoch 21\n",
            "Error: 0.250607219115712 at epoch 22\n",
            "Error: 0.2505117041633407 at epoch 23\n",
            "Error: 0.25014825355231085 at epoch 24\n",
            "Error: 0.24763405257480273 at epoch 25\n",
            "Error: 0.2295539162706607 at epoch 26\n",
            "Error: 0.18311881872077987 at epoch 27\n",
            "Error: 0.10159954505143547 at epoch 28\n",
            "Error: 0.039938853488397465 at epoch 29\n",
            "Error: 0.021811903824444107 at epoch 30\n",
            "Error: 0.014840914605037597 at epoch 31\n",
            "Error: 0.011227299560126575 at epoch 32\n",
            "Error: 0.009023443073646205 at epoch 33\n",
            "Error: 0.007540092541253876 at epoch 34\n",
            "Error: 0.006473781483020888 at epoch 35\n",
            "Error: 0.005670389359539102 at epoch 36\n",
            "Error: 0.005043394056906533 at epoch 37\n",
            "Error: 0.004540483412885081 at epoch 38\n",
            "Error: 0.004128169608754636 at epoch 39\n",
            "Error: 0.003784020337193686 at epoch 40\n",
            "Error: 0.0034924439314974265 at epoch 41\n",
            "Error: 0.003242266260914894 at epoch 42\n",
            "Error: 0.0030252695646217167 at epoch 43\n",
            "Error: 0.002835275331101763 at epoch 44\n",
            "Error: 0.002667548683082119 at epoch 45\n",
            "Error: 0.0025184000215757816 at epoch 46\n",
            "Error: 0.0023849116898413307 at epoch 47\n",
            "Error: 0.0022647461518923444 at epoch 48\n",
            "Error: 0.0021560086645448034 at epoch 49\n",
            "Error: 0.0020571471968748585 at epoch 50\n",
            "Training complete!\n",
            "=====\n",
            "*******************************************************\n",
            "Τhe MLP network believes that 1 XOR 1 is equal to 0.019109988962472145\n",
            "Τhe MLP network believes that 1 XOR 0 is equal to 0.9587568256062794\n",
            "Τhe MLP network believes that 0 XOR 1 is equal to 0.9599672788704012\n",
            "Τhe MLP network believes that 0 XOR 0 is equal to 0.0664870280777859\n"
          ]
        }
      ],
      "source": [
        "# Δημιουργία πολυεπίπεδου αισθητήρα με 1 επίπεδο εισόδου, 1 κρυφό επίπεδο, 1 επίπεδο εξόδου \n",
        "mlp = MLP(2, [3], 1)\n",
        "\n",
        "# Εκπαίδευση μοτνέλου\n",
        "mlp.train(items, targets, 50, 0.1)\n",
        "\n",
        "# Δεδομένα ελέγχου - Testing\n",
        "input1 = np.array([1,1])\n",
        "input2 = np.array([1,0])\n",
        "input3 = np.array([0,1])\n",
        "input4 = np.array([0,0])\n",
        "\n",
        "# Πρόβλεψη για κάθε ζεύγος ελέγχου\n",
        "output1 = mlp.forward_propagate(input1)\n",
        "output2 = mlp.forward_propagate(input2)\n",
        "output3 = mlp.forward_propagate(input3)\n",
        "output4 = mlp.forward_propagate(input4)\n",
        "\n",
        "# Εκτύπωση αποτελεσμάτων\n",
        "print(\"*******************************************************\")\n",
        "print(\"Τhe MLP network believes that {} XOR {} is equal to {}\".format(input1[0], input1[1], output1[0]))\n",
        "print(\"Τhe MLP network believes that {} XOR {} is equal to {}\".format(input2[0], input2[1], output2[0]))\n",
        "print(\"Τhe MLP network believes that {} XOR {} is equal to {}\".format(input3[0], input3[1], output3[0]))\n",
        "print(\"Τhe MLP network believes that {} XOR {} is equal to {}\".format(input4[0], input4[1], output4[0]))\n"
      ]
    }
  ],
  "metadata": {
    "kernelspec": {
      "display_name": "Python 3 (ipykernel)",
      "language": "python",
      "name": "python3"
    },
    "language_info": {
      "codemirror_mode": {
        "name": "ipython",
        "version": 3
      },
      "file_extension": ".py",
      "mimetype": "text/x-python",
      "name": "python",
      "nbconvert_exporter": "python",
      "pygments_lexer": "ipython3",
      "version": "3.9.7"
    },
    "colab": {
      "name": "MLP_XOR.ipynb",
      "provenance": [],
      "collapsed_sections": []
    }
  },
  "nbformat": 4,
  "nbformat_minor": 5
}